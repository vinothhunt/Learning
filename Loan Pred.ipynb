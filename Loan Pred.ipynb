{
 "cells": [
  {
   "cell_type": "code",
   "execution_count": 1,
   "metadata": {},
   "outputs": [],
   "source": [
    "import numpy as np\n",
    "import pandas as pd\n",
    "import matplotlib.pyplot as plt\n",
    "import seaborn as sn\n",
    "%matplotlib inline"
   ]
  },
  {
   "cell_type": "code",
   "execution_count": 2,
   "metadata": {},
   "outputs": [],
   "source": [
    "train = pd.read_csv(\"Loan.csv\")"
   ]
  },
  {
   "cell_type": "code",
   "execution_count": 3,
   "metadata": {},
   "outputs": [
    {
     "data": {
      "text/html": [
       "<div>\n",
       "<style scoped>\n",
       "    .dataframe tbody tr th:only-of-type {\n",
       "        vertical-align: middle;\n",
       "    }\n",
       "\n",
       "    .dataframe tbody tr th {\n",
       "        vertical-align: top;\n",
       "    }\n",
       "\n",
       "    .dataframe thead th {\n",
       "        text-align: right;\n",
       "    }\n",
       "</style>\n",
       "<table border=\"1\" class=\"dataframe\">\n",
       "  <thead>\n",
       "    <tr style=\"text-align: right;\">\n",
       "      <th></th>\n",
       "      <th>No</th>\n",
       "      <th>Age</th>\n",
       "      <th>Education</th>\n",
       "      <th>Industry</th>\n",
       "      <th>Experience</th>\n",
       "      <th>Marital Status</th>\n",
       "      <th>Own House</th>\n",
       "      <th>Dependents</th>\n",
       "      <th>Income</th>\n",
       "      <th>Loan Affordability</th>\n",
       "    </tr>\n",
       "  </thead>\n",
       "  <tbody>\n",
       "    <tr>\n",
       "      <th>0</th>\n",
       "      <td>31</td>\n",
       "      <td>38</td>\n",
       "      <td>No schooling</td>\n",
       "      <td>Arts &amp; Media</td>\n",
       "      <td>20</td>\n",
       "      <td>DIVORCED</td>\n",
       "      <td>NO</td>\n",
       "      <td>3</td>\n",
       "      <td>66385.60627</td>\n",
       "      <td>NO</td>\n",
       "    </tr>\n",
       "    <tr>\n",
       "      <th>1</th>\n",
       "      <td>50</td>\n",
       "      <td>44</td>\n",
       "      <td>No schooling</td>\n",
       "      <td>Construction</td>\n",
       "      <td>26</td>\n",
       "      <td>SINGLE</td>\n",
       "      <td>NO</td>\n",
       "      <td>2</td>\n",
       "      <td>71385.60627</td>\n",
       "      <td>NO</td>\n",
       "    </tr>\n",
       "    <tr>\n",
       "      <th>2</th>\n",
       "      <td>61</td>\n",
       "      <td>33</td>\n",
       "      <td>No schooling</td>\n",
       "      <td>Steel</td>\n",
       "      <td>15</td>\n",
       "      <td>MARRIED</td>\n",
       "      <td>NO</td>\n",
       "      <td>0</td>\n",
       "      <td>84385.60627</td>\n",
       "      <td>NO</td>\n",
       "    </tr>\n",
       "    <tr>\n",
       "      <th>3</th>\n",
       "      <td>106</td>\n",
       "      <td>28</td>\n",
       "      <td>No schooling</td>\n",
       "      <td>Arts &amp; Media</td>\n",
       "      <td>10</td>\n",
       "      <td>DIVORCED</td>\n",
       "      <td>NO</td>\n",
       "      <td>2</td>\n",
       "      <td>80385.60627</td>\n",
       "      <td>NO</td>\n",
       "    </tr>\n",
       "    <tr>\n",
       "      <th>4</th>\n",
       "      <td>125</td>\n",
       "      <td>41</td>\n",
       "      <td>No schooling</td>\n",
       "      <td>Construction</td>\n",
       "      <td>23</td>\n",
       "      <td>SINGLE</td>\n",
       "      <td>YES</td>\n",
       "      <td>2</td>\n",
       "      <td>66385.60627</td>\n",
       "      <td>NO</td>\n",
       "    </tr>\n",
       "  </tbody>\n",
       "</table>\n",
       "</div>"
      ],
      "text/plain": [
       "    No  Age     Education       Industry  Experience  Marital Status  \\\n",
       "0   31   38  No schooling   Arts & Media           20       DIVORCED   \n",
       "1   50   44  No schooling  Construction            26         SINGLE   \n",
       "2   61   33  No schooling         Steel            15        MARRIED   \n",
       "3  106   28  No schooling   Arts & Media           10       DIVORCED   \n",
       "4  125   41  No schooling  Construction            23         SINGLE   \n",
       "\n",
       "  Own House  Dependents       Income Loan Affordability  \n",
       "0        NO           3  66385.60627                 NO  \n",
       "1        NO           2  71385.60627                 NO  \n",
       "2        NO           0  84385.60627                 NO  \n",
       "3        NO           2  80385.60627                 NO  \n",
       "4       YES           2  66385.60627                 NO  "
      ]
     },
     "execution_count": 3,
     "metadata": {},
     "output_type": "execute_result"
    }
   ],
   "source": [
    "train.head()"
   ]
  },
  {
   "cell_type": "code",
   "execution_count": 5,
   "metadata": {},
   "outputs": [
    {
     "data": {
      "text/plain": [
       "(38400, 10)"
      ]
     },
     "execution_count": 5,
     "metadata": {},
     "output_type": "execute_result"
    }
   ],
   "source": [
    "train.shape"
   ]
  },
  {
   "cell_type": "code",
   "execution_count": 6,
   "metadata": {},
   "outputs": [
    {
     "name": "stdout",
     "output_type": "stream",
     "text": [
      "<class 'pandas.core.frame.DataFrame'>\n",
      "RangeIndex: 38400 entries, 0 to 38399\n",
      "Data columns (total 10 columns):\n",
      "No                    38400 non-null int64\n",
      "Age                   38400 non-null int64\n",
      "Education             38400 non-null object\n",
      "Industry              38400 non-null object\n",
      "Experience            38400 non-null int64\n",
      "Marital Status        38400 non-null object\n",
      "Own House             38400 non-null object\n",
      "Dependents            38400 non-null int64\n",
      "Income                38400 non-null float64\n",
      "Loan Affordability    38400 non-null object\n",
      "dtypes: float64(1), int64(4), object(5)\n",
      "memory usage: 2.9+ MB\n"
     ]
    }
   ],
   "source": [
    "train.info()"
   ]
  },
  {
   "cell_type": "code",
   "execution_count": 7,
   "metadata": {},
   "outputs": [
    {
     "data": {
      "text/plain": [
       "No                    0\n",
       "Age                   0\n",
       "Education             0\n",
       "Industry              0\n",
       "Experience            0\n",
       "Marital Status        0\n",
       "Own House             0\n",
       "Dependents            0\n",
       "Income                0\n",
       "Loan Affordability    0\n",
       "dtype: int64"
      ]
     },
     "execution_count": 7,
     "metadata": {},
     "output_type": "execute_result"
    }
   ],
   "source": [
    "train.isnull().sum()"
   ]
  },
  {
   "cell_type": "code",
   "execution_count": 8,
   "metadata": {},
   "outputs": [
    {
     "name": "stdout",
     "output_type": "stream",
     "text": [
      "No 38400\n",
      "Age 31\n",
      "Education 5\n",
      "Industry 21\n",
      "Experience  35\n",
      "Marital Status 3\n",
      "Own House 2\n",
      "Dependents 4\n",
      "Income 417\n",
      "Loan Affordability 2\n"
     ]
    },
    {
     "data": {
      "text/html": [
       "<div>\n",
       "<style scoped>\n",
       "    .dataframe tbody tr th:only-of-type {\n",
       "        vertical-align: middle;\n",
       "    }\n",
       "\n",
       "    .dataframe tbody tr th {\n",
       "        vertical-align: top;\n",
       "    }\n",
       "\n",
       "    .dataframe thead th {\n",
       "        text-align: right;\n",
       "    }\n",
       "</style>\n",
       "<table border=\"1\" class=\"dataframe\">\n",
       "  <thead>\n",
       "    <tr style=\"text-align: right;\">\n",
       "      <th></th>\n",
       "      <th>No</th>\n",
       "      <th>Age</th>\n",
       "      <th>Education</th>\n",
       "      <th>Industry</th>\n",
       "      <th>Experience</th>\n",
       "      <th>Marital Status</th>\n",
       "      <th>Own House</th>\n",
       "      <th>Dependents</th>\n",
       "      <th>Income</th>\n",
       "      <th>Loan Affordability</th>\n",
       "    </tr>\n",
       "  </thead>\n",
       "  <tbody>\n",
       "    <tr>\n",
       "      <th>0</th>\n",
       "      <td>31</td>\n",
       "      <td>38</td>\n",
       "      <td>No schooling</td>\n",
       "      <td>Arts &amp; Media</td>\n",
       "      <td>20</td>\n",
       "      <td>DIVORCED</td>\n",
       "      <td>NO</td>\n",
       "      <td>3</td>\n",
       "      <td>66385.60627</td>\n",
       "      <td>NO</td>\n",
       "    </tr>\n",
       "    <tr>\n",
       "      <th>1</th>\n",
       "      <td>50</td>\n",
       "      <td>44</td>\n",
       "      <td>No schooling</td>\n",
       "      <td>Construction</td>\n",
       "      <td>26</td>\n",
       "      <td>SINGLE</td>\n",
       "      <td>NO</td>\n",
       "      <td>2</td>\n",
       "      <td>71385.60627</td>\n",
       "      <td>NO</td>\n",
       "    </tr>\n",
       "    <tr>\n",
       "      <th>2</th>\n",
       "      <td>61</td>\n",
       "      <td>33</td>\n",
       "      <td>No schooling</td>\n",
       "      <td>Steel</td>\n",
       "      <td>15</td>\n",
       "      <td>MARRIED</td>\n",
       "      <td>NO</td>\n",
       "      <td>0</td>\n",
       "      <td>84385.60627</td>\n",
       "      <td>NO</td>\n",
       "    </tr>\n",
       "    <tr>\n",
       "      <th>3</th>\n",
       "      <td>106</td>\n",
       "      <td>28</td>\n",
       "      <td>No schooling</td>\n",
       "      <td>Arts &amp; Media</td>\n",
       "      <td>10</td>\n",
       "      <td>DIVORCED</td>\n",
       "      <td>NO</td>\n",
       "      <td>2</td>\n",
       "      <td>80385.60627</td>\n",
       "      <td>NO</td>\n",
       "    </tr>\n",
       "    <tr>\n",
       "      <th>4</th>\n",
       "      <td>125</td>\n",
       "      <td>41</td>\n",
       "      <td>No schooling</td>\n",
       "      <td>Construction</td>\n",
       "      <td>23</td>\n",
       "      <td>SINGLE</td>\n",
       "      <td>YES</td>\n",
       "      <td>2</td>\n",
       "      <td>66385.60627</td>\n",
       "      <td>NO</td>\n",
       "    </tr>\n",
       "  </tbody>\n",
       "</table>\n",
       "</div>"
      ],
      "text/plain": [
       "    No  Age     Education       Industry  Experience  Marital Status  \\\n",
       "0   31   38  No schooling   Arts & Media           20       DIVORCED   \n",
       "1   50   44  No schooling  Construction            26         SINGLE   \n",
       "2   61   33  No schooling         Steel            15        MARRIED   \n",
       "3  106   28  No schooling   Arts & Media           10       DIVORCED   \n",
       "4  125   41  No schooling  Construction            23         SINGLE   \n",
       "\n",
       "  Own House  Dependents       Income Loan Affordability  \n",
       "0        NO           3  66385.60627                 NO  \n",
       "1        NO           2  71385.60627                 NO  \n",
       "2        NO           0  84385.60627                 NO  \n",
       "3        NO           2  80385.60627                 NO  \n",
       "4       YES           2  66385.60627                 NO  "
      ]
     },
     "execution_count": 8,
     "metadata": {},
     "output_type": "execute_result"
    }
   ],
   "source": [
    "for k in train.columns:\n",
    "    print(k,train[k].nunique())\n",
    "    \n",
    "train.head()"
   ]
  },
  {
   "cell_type": "code",
   "execution_count": 9,
   "metadata": {},
   "outputs": [],
   "source": [
    "train_df=pd.get_dummies(train,columns=['Education','Industry','Marital Status','Own House'],drop_first=True)"
   ]
  },
  {
   "cell_type": "code",
   "execution_count": 12,
   "metadata": {},
   "outputs": [
    {
     "data": {
      "text/html": [
       "<div>\n",
       "<style scoped>\n",
       "    .dataframe tbody tr th:only-of-type {\n",
       "        vertical-align: middle;\n",
       "    }\n",
       "\n",
       "    .dataframe tbody tr th {\n",
       "        vertical-align: top;\n",
       "    }\n",
       "\n",
       "    .dataframe thead th {\n",
       "        text-align: right;\n",
       "    }\n",
       "</style>\n",
       "<table border=\"1\" class=\"dataframe\">\n",
       "  <thead>\n",
       "    <tr style=\"text-align: right;\">\n",
       "      <th></th>\n",
       "      <th>No</th>\n",
       "      <th>Age</th>\n",
       "      <th>Experience</th>\n",
       "      <th>Dependents</th>\n",
       "      <th>Income</th>\n",
       "      <th>Loan Affordability</th>\n",
       "      <th>Education_Doctorate</th>\n",
       "      <th>Education_High School</th>\n",
       "      <th>Education_Master</th>\n",
       "      <th>Education_No schooling</th>\n",
       "      <th>...</th>\n",
       "      <th>Industry_Manufacturing</th>\n",
       "      <th>Industry_Petroleum</th>\n",
       "      <th>Industry_Pharmaceutical</th>\n",
       "      <th>Industry_Pulp and paper</th>\n",
       "      <th>Industry_Software</th>\n",
       "      <th>Industry_Steel</th>\n",
       "      <th>Industry_Transport</th>\n",
       "      <th>Marital Status_MARRIED</th>\n",
       "      <th>Marital Status_SINGLE</th>\n",
       "      <th>Own House_YES</th>\n",
       "    </tr>\n",
       "  </thead>\n",
       "  <tbody>\n",
       "    <tr>\n",
       "      <th>0</th>\n",
       "      <td>31</td>\n",
       "      <td>38</td>\n",
       "      <td>20</td>\n",
       "      <td>3</td>\n",
       "      <td>66385.60627</td>\n",
       "      <td>0</td>\n",
       "      <td>0</td>\n",
       "      <td>0</td>\n",
       "      <td>0</td>\n",
       "      <td>1</td>\n",
       "      <td>...</td>\n",
       "      <td>0</td>\n",
       "      <td>0</td>\n",
       "      <td>0</td>\n",
       "      <td>0</td>\n",
       "      <td>0</td>\n",
       "      <td>0</td>\n",
       "      <td>0</td>\n",
       "      <td>0</td>\n",
       "      <td>0</td>\n",
       "      <td>0</td>\n",
       "    </tr>\n",
       "    <tr>\n",
       "      <th>1</th>\n",
       "      <td>50</td>\n",
       "      <td>44</td>\n",
       "      <td>26</td>\n",
       "      <td>2</td>\n",
       "      <td>71385.60627</td>\n",
       "      <td>0</td>\n",
       "      <td>0</td>\n",
       "      <td>0</td>\n",
       "      <td>0</td>\n",
       "      <td>1</td>\n",
       "      <td>...</td>\n",
       "      <td>0</td>\n",
       "      <td>0</td>\n",
       "      <td>0</td>\n",
       "      <td>0</td>\n",
       "      <td>0</td>\n",
       "      <td>0</td>\n",
       "      <td>0</td>\n",
       "      <td>0</td>\n",
       "      <td>1</td>\n",
       "      <td>0</td>\n",
       "    </tr>\n",
       "    <tr>\n",
       "      <th>2</th>\n",
       "      <td>61</td>\n",
       "      <td>33</td>\n",
       "      <td>15</td>\n",
       "      <td>0</td>\n",
       "      <td>84385.60627</td>\n",
       "      <td>0</td>\n",
       "      <td>0</td>\n",
       "      <td>0</td>\n",
       "      <td>0</td>\n",
       "      <td>1</td>\n",
       "      <td>...</td>\n",
       "      <td>0</td>\n",
       "      <td>0</td>\n",
       "      <td>0</td>\n",
       "      <td>0</td>\n",
       "      <td>0</td>\n",
       "      <td>1</td>\n",
       "      <td>0</td>\n",
       "      <td>1</td>\n",
       "      <td>0</td>\n",
       "      <td>0</td>\n",
       "    </tr>\n",
       "    <tr>\n",
       "      <th>3</th>\n",
       "      <td>106</td>\n",
       "      <td>28</td>\n",
       "      <td>10</td>\n",
       "      <td>2</td>\n",
       "      <td>80385.60627</td>\n",
       "      <td>0</td>\n",
       "      <td>0</td>\n",
       "      <td>0</td>\n",
       "      <td>0</td>\n",
       "      <td>1</td>\n",
       "      <td>...</td>\n",
       "      <td>0</td>\n",
       "      <td>0</td>\n",
       "      <td>0</td>\n",
       "      <td>0</td>\n",
       "      <td>0</td>\n",
       "      <td>0</td>\n",
       "      <td>0</td>\n",
       "      <td>0</td>\n",
       "      <td>0</td>\n",
       "      <td>0</td>\n",
       "    </tr>\n",
       "    <tr>\n",
       "      <th>4</th>\n",
       "      <td>125</td>\n",
       "      <td>41</td>\n",
       "      <td>23</td>\n",
       "      <td>2</td>\n",
       "      <td>66385.60627</td>\n",
       "      <td>0</td>\n",
       "      <td>0</td>\n",
       "      <td>0</td>\n",
       "      <td>0</td>\n",
       "      <td>1</td>\n",
       "      <td>...</td>\n",
       "      <td>0</td>\n",
       "      <td>0</td>\n",
       "      <td>0</td>\n",
       "      <td>0</td>\n",
       "      <td>0</td>\n",
       "      <td>0</td>\n",
       "      <td>0</td>\n",
       "      <td>0</td>\n",
       "      <td>1</td>\n",
       "      <td>1</td>\n",
       "    </tr>\n",
       "  </tbody>\n",
       "</table>\n",
       "<p>5 rows × 33 columns</p>\n",
       "</div>"
      ],
      "text/plain": [
       "    No  Age  Experience   Dependents       Income Loan Affordability  \\\n",
       "0   31   38           20           3  66385.60627                  0   \n",
       "1   50   44           26           2  71385.60627                  0   \n",
       "2   61   33           15           0  84385.60627                  0   \n",
       "3  106   28           10           2  80385.60627                  0   \n",
       "4  125   41           23           2  66385.60627                  0   \n",
       "\n",
       "   Education_Doctorate  Education_High School  Education_Master  \\\n",
       "0                    0                      0                 0   \n",
       "1                    0                      0                 0   \n",
       "2                    0                      0                 0   \n",
       "3                    0                      0                 0   \n",
       "4                    0                      0                 0   \n",
       "\n",
       "   Education_No schooling      ...        Industry_Manufacturing  \\\n",
       "0                       1      ...                             0   \n",
       "1                       1      ...                             0   \n",
       "2                       1      ...                             0   \n",
       "3                       1      ...                             0   \n",
       "4                       1      ...                             0   \n",
       "\n",
       "   Industry_Petroleum   Industry_Pharmaceutical   Industry_Pulp and paper   \\\n",
       "0                    0                         0                         0   \n",
       "1                    0                         0                         0   \n",
       "2                    0                         0                         0   \n",
       "3                    0                         0                         0   \n",
       "4                    0                         0                         0   \n",
       "\n",
       "   Industry_Software   Industry_Steel   Industry_Transport   \\\n",
       "0                   0                0                    0   \n",
       "1                   0                0                    0   \n",
       "2                   0                1                    0   \n",
       "3                   0                0                    0   \n",
       "4                   0                0                    0   \n",
       "\n",
       "   Marital Status_MARRIED  Marital Status_SINGLE  Own House_YES  \n",
       "0                       0                      0              0  \n",
       "1                       0                      1              0  \n",
       "2                       1                      0              0  \n",
       "3                       0                      0              0  \n",
       "4                       0                      1              1  \n",
       "\n",
       "[5 rows x 33 columns]"
      ]
     },
     "execution_count": 12,
     "metadata": {},
     "output_type": "execute_result"
    }
   ],
   "source": [
    "train_df.head()"
   ]
  },
  {
   "cell_type": "code",
   "execution_count": 17,
   "metadata": {},
   "outputs": [],
   "source": [
    "train_df['Loan Affordability'].replace({\"YES\":1,\"NO\":0},inplace=True)"
   ]
  },
  {
   "cell_type": "code",
   "execution_count": 18,
   "metadata": {},
   "outputs": [
    {
     "name": "stdout",
     "output_type": "stream",
     "text": [
      "<class 'pandas.core.frame.DataFrame'>\n",
      "RangeIndex: 38400 entries, 0 to 38399\n",
      "Data columns (total 33 columns):\n",
      "No                              38400 non-null int64\n",
      "Age                             38400 non-null int64\n",
      "Experience                      38400 non-null int64\n",
      "Dependents                      38400 non-null int64\n",
      "Income                          38400 non-null float64\n",
      "Loan Affordability              38400 non-null int64\n",
      "Education_Doctorate             38400 non-null uint8\n",
      "Education_High School           38400 non-null uint8\n",
      "Education_Master                38400 non-null uint8\n",
      "Education_No schooling          38400 non-null uint8\n",
      "Industry_Arts & Media           38400 non-null uint8\n",
      "Industry_Chemical               38400 non-null uint8\n",
      "Industry_Construction           38400 non-null uint8\n",
      "Industry_Defense                38400 non-null uint8\n",
      "Industry_Education              38400 non-null uint8\n",
      "Industry_Energy                 38400 non-null uint8\n",
      "Industry_Entertainment          38400 non-null uint8\n",
      "Industry_Financial services     38400 non-null uint8\n",
      "Industry_Fishing                38400 non-null uint8\n",
      "Industry_Food & Beverages       38400 non-null uint8\n",
      "Industry_Health care            38400 non-null uint8\n",
      "Industry_Hospitality            38400 non-null uint8\n",
      "Industry_ICT                    38400 non-null uint8\n",
      "Industry_Manufacturing          38400 non-null uint8\n",
      "Industry_Petroleum              38400 non-null uint8\n",
      "Industry_Pharmaceutical         38400 non-null uint8\n",
      "Industry_Pulp and paper         38400 non-null uint8\n",
      "Industry_Software               38400 non-null uint8\n",
      "Industry_Steel                  38400 non-null uint8\n",
      "Industry_Transport              38400 non-null uint8\n",
      "Marital Status_MARRIED          38400 non-null uint8\n",
      "Marital Status_SINGLE           38400 non-null uint8\n",
      "Own House_YES                   38400 non-null uint8\n",
      "dtypes: float64(1), int64(5), uint8(27)\n",
      "memory usage: 2.7 MB\n"
     ]
    }
   ],
   "source": [
    "train_df.info()"
   ]
  },
  {
   "cell_type": "code",
   "execution_count": 19,
   "metadata": {},
   "outputs": [
    {
     "data": {
      "text/plain": [
       "0    23430\n",
       "1    14970\n",
       "Name: Loan Affordability, dtype: int64"
      ]
     },
     "execution_count": 19,
     "metadata": {},
     "output_type": "execute_result"
    }
   ],
   "source": [
    "train_df['Loan Affordability'].value_counts()"
   ]
  },
  {
   "cell_type": "code",
   "execution_count": null,
   "metadata": {},
   "outputs": [],
   "source": [
    "##train_df['Loan Affordability']=train_df['Loan Affordability'].astype(int)"
   ]
  },
  {
   "cell_type": "code",
   "execution_count": 21,
   "metadata": {},
   "outputs": [
    {
     "data": {
      "text/plain": [
       "0    0.610156\n",
       "1    0.389844\n",
       "Name: Loan Affordability, dtype: float64"
      ]
     },
     "execution_count": 21,
     "metadata": {},
     "output_type": "execute_result"
    }
   ],
   "source": [
    "train_df['Loan Affordability'].value_counts()/len(train_df)"
   ]
  },
  {
   "cell_type": "code",
   "execution_count": 22,
   "metadata": {},
   "outputs": [
    {
     "data": {
      "text/plain": [
       "Index(['No', 'Age', 'Experience ', 'Dependents', 'Income',\n",
       "       'Loan Affordability', 'Education_Doctorate', 'Education_High School',\n",
       "       'Education_Master', 'Education_No schooling', 'Industry_Arts & Media',\n",
       "       'Industry_Chemical ', 'Industry_Construction ', 'Industry_Defense ',\n",
       "       'Industry_Education ', 'Industry_Energy ', 'Industry_Entertainment ',\n",
       "       'Industry_Financial services ', 'Industry_Fishing ',\n",
       "       'Industry_Food & Beverages', 'Industry_Health care ',\n",
       "       'Industry_Hospitality ', 'Industry_ICT', 'Industry_Manufacturing',\n",
       "       'Industry_Petroleum ', 'Industry_Pharmaceutical ',\n",
       "       'Industry_Pulp and paper ', 'Industry_Software ', 'Industry_Steel ',\n",
       "       'Industry_Transport ', 'Marital Status_MARRIED',\n",
       "       'Marital Status_SINGLE', 'Own House_YES'],\n",
       "      dtype='object')"
      ]
     },
     "execution_count": 22,
     "metadata": {},
     "output_type": "execute_result"
    }
   ],
   "source": [
    "train_df.columns"
   ]
  },
  {
   "cell_type": "code",
   "execution_count": 25,
   "metadata": {},
   "outputs": [],
   "source": [
    "##Not implemented \n",
    "agg_func = {\n",
    "    'Income': ['sum', 'mean'],\n",
    "    'Age': ['min','max','count','mean','sum'],\n",
    "    'Experience ': ['min','max','count','mean','sum'],\n",
    "    'Dependents': ['min','max','count','mean','sum']\n",
    "}"
   ]
  },
  {
   "cell_type": "code",
   "execution_count": 26,
   "metadata": {},
   "outputs": [],
   "source": [
    "train_df1 = train_df.groupby('No').agg(agg_func)"
   ]
  },
  {
   "cell_type": "code",
   "execution_count": 27,
   "metadata": {},
   "outputs": [
    {
     "data": {
      "text/html": [
       "<div>\n",
       "<style scoped>\n",
       "    .dataframe tbody tr th:only-of-type {\n",
       "        vertical-align: middle;\n",
       "    }\n",
       "\n",
       "    .dataframe tbody tr th {\n",
       "        vertical-align: top;\n",
       "    }\n",
       "\n",
       "    .dataframe thead th {\n",
       "        text-align: right;\n",
       "    }\n",
       "</style>\n",
       "<table border=\"1\" class=\"dataframe\">\n",
       "  <thead>\n",
       "    <tr style=\"text-align: right;\">\n",
       "      <th></th>\n",
       "      <th>No</th>\n",
       "      <th>J_Income_sum</th>\n",
       "      <th>J_Income_mean</th>\n",
       "      <th>J_Age_min</th>\n",
       "      <th>J_Age_max</th>\n",
       "      <th>J_Age_count</th>\n",
       "      <th>J_Age_mean</th>\n",
       "      <th>J_Age_sum</th>\n",
       "      <th>J_Experience _min</th>\n",
       "      <th>J_Experience _max</th>\n",
       "      <th>J_Experience _count</th>\n",
       "      <th>J_Experience _mean</th>\n",
       "      <th>J_Experience _sum</th>\n",
       "      <th>J_Dependents_min</th>\n",
       "      <th>J_Dependents_max</th>\n",
       "      <th>J_Dependents_count</th>\n",
       "      <th>J_Dependents_mean</th>\n",
       "      <th>J_Dependents_sum</th>\n",
       "    </tr>\n",
       "  </thead>\n",
       "  <tbody>\n",
       "    <tr>\n",
       "      <th>0</th>\n",
       "      <td>1</td>\n",
       "      <td>75771.21255</td>\n",
       "      <td>75771.21255</td>\n",
       "      <td>51</td>\n",
       "      <td>51</td>\n",
       "      <td>1</td>\n",
       "      <td>51</td>\n",
       "      <td>51</td>\n",
       "      <td>31</td>\n",
       "      <td>31</td>\n",
       "      <td>1</td>\n",
       "      <td>31</td>\n",
       "      <td>31</td>\n",
       "      <td>1</td>\n",
       "      <td>1</td>\n",
       "      <td>1</td>\n",
       "      <td>1</td>\n",
       "      <td>1</td>\n",
       "    </tr>\n",
       "    <tr>\n",
       "      <th>1</th>\n",
       "      <td>2</td>\n",
       "      <td>86771.21255</td>\n",
       "      <td>86771.21255</td>\n",
       "      <td>31</td>\n",
       "      <td>31</td>\n",
       "      <td>1</td>\n",
       "      <td>31</td>\n",
       "      <td>31</td>\n",
       "      <td>9</td>\n",
       "      <td>9</td>\n",
       "      <td>1</td>\n",
       "      <td>9</td>\n",
       "      <td>9</td>\n",
       "      <td>1</td>\n",
       "      <td>1</td>\n",
       "      <td>1</td>\n",
       "      <td>1</td>\n",
       "      <td>1</td>\n",
       "    </tr>\n",
       "    <tr>\n",
       "      <th>2</th>\n",
       "      <td>3</td>\n",
       "      <td>67515.44993</td>\n",
       "      <td>67515.44993</td>\n",
       "      <td>41</td>\n",
       "      <td>41</td>\n",
       "      <td>1</td>\n",
       "      <td>41</td>\n",
       "      <td>41</td>\n",
       "      <td>21</td>\n",
       "      <td>21</td>\n",
       "      <td>1</td>\n",
       "      <td>21</td>\n",
       "      <td>21</td>\n",
       "      <td>0</td>\n",
       "      <td>0</td>\n",
       "      <td>1</td>\n",
       "      <td>0</td>\n",
       "      <td>0</td>\n",
       "    </tr>\n",
       "    <tr>\n",
       "      <th>3</th>\n",
       "      <td>4</td>\n",
       "      <td>83890.75625</td>\n",
       "      <td>83890.75625</td>\n",
       "      <td>39</td>\n",
       "      <td>39</td>\n",
       "      <td>1</td>\n",
       "      <td>39</td>\n",
       "      <td>39</td>\n",
       "      <td>20</td>\n",
       "      <td>20</td>\n",
       "      <td>1</td>\n",
       "      <td>20</td>\n",
       "      <td>20</td>\n",
       "      <td>0</td>\n",
       "      <td>0</td>\n",
       "      <td>1</td>\n",
       "      <td>0</td>\n",
       "      <td>0</td>\n",
       "    </tr>\n",
       "    <tr>\n",
       "      <th>4</th>\n",
       "      <td>5</td>\n",
       "      <td>84000.00000</td>\n",
       "      <td>84000.00000</td>\n",
       "      <td>30</td>\n",
       "      <td>30</td>\n",
       "      <td>1</td>\n",
       "      <td>30</td>\n",
       "      <td>30</td>\n",
       "      <td>9</td>\n",
       "      <td>9</td>\n",
       "      <td>1</td>\n",
       "      <td>9</td>\n",
       "      <td>9</td>\n",
       "      <td>1</td>\n",
       "      <td>1</td>\n",
       "      <td>1</td>\n",
       "      <td>1</td>\n",
       "      <td>1</td>\n",
       "    </tr>\n",
       "  </tbody>\n",
       "</table>\n",
       "</div>"
      ],
      "text/plain": [
       "   No  J_Income_sum  J_Income_mean  J_Age_min  J_Age_max  J_Age_count  \\\n",
       "0   1   75771.21255    75771.21255         51         51            1   \n",
       "1   2   86771.21255    86771.21255         31         31            1   \n",
       "2   3   67515.44993    67515.44993         41         41            1   \n",
       "3   4   83890.75625    83890.75625         39         39            1   \n",
       "4   5   84000.00000    84000.00000         30         30            1   \n",
       "\n",
       "   J_Age_mean  J_Age_sum  J_Experience _min  J_Experience _max  \\\n",
       "0          51         51                 31                 31   \n",
       "1          31         31                  9                  9   \n",
       "2          41         41                 21                 21   \n",
       "3          39         39                 20                 20   \n",
       "4          30         30                  9                  9   \n",
       "\n",
       "   J_Experience _count  J_Experience _mean  J_Experience _sum  \\\n",
       "0                    1                  31                 31   \n",
       "1                    1                   9                  9   \n",
       "2                    1                  21                 21   \n",
       "3                    1                  20                 20   \n",
       "4                    1                   9                  9   \n",
       "\n",
       "   J_Dependents_min  J_Dependents_max  J_Dependents_count  J_Dependents_mean  \\\n",
       "0                 1                 1                   1                  1   \n",
       "1                 1                 1                   1                  1   \n",
       "2                 0                 0                   1                  0   \n",
       "3                 0                 0                   1                  0   \n",
       "4                 1                 1                   1                  1   \n",
       "\n",
       "   J_Dependents_sum  \n",
       "0                 1  \n",
       "1                 1  \n",
       "2                 0  \n",
       "3                 0  \n",
       "4                 1  "
      ]
     },
     "execution_count": 27,
     "metadata": {},
     "output_type": "execute_result"
    }
   ],
   "source": [
    "train_df1.columns = ['J_' + '_'.join(col).strip() for col in train_df1.columns.values]\n",
    "train_df1.reset_index(inplace=True)\n",
    "train_df1.head()"
   ]
  },
  {
   "cell_type": "code",
   "execution_count": 28,
   "metadata": {},
   "outputs": [
    {
     "data": {
      "text/html": [
       "<div>\n",
       "<style scoped>\n",
       "    .dataframe tbody tr th:only-of-type {\n",
       "        vertical-align: middle;\n",
       "    }\n",
       "\n",
       "    .dataframe tbody tr th {\n",
       "        vertical-align: top;\n",
       "    }\n",
       "\n",
       "    .dataframe thead th {\n",
       "        text-align: right;\n",
       "    }\n",
       "</style>\n",
       "<table border=\"1\" class=\"dataframe\">\n",
       "  <thead>\n",
       "    <tr style=\"text-align: right;\">\n",
       "      <th></th>\n",
       "      <th>No</th>\n",
       "      <th>Age</th>\n",
       "      <th>Experience</th>\n",
       "      <th>Dependents</th>\n",
       "      <th>Income</th>\n",
       "      <th>Loan Affordability</th>\n",
       "      <th>Education_Doctorate</th>\n",
       "      <th>Education_High School</th>\n",
       "      <th>Education_Master</th>\n",
       "      <th>Education_No schooling</th>\n",
       "      <th>...</th>\n",
       "      <th>Industry_Manufacturing</th>\n",
       "      <th>Industry_Petroleum</th>\n",
       "      <th>Industry_Pharmaceutical</th>\n",
       "      <th>Industry_Pulp and paper</th>\n",
       "      <th>Industry_Software</th>\n",
       "      <th>Industry_Steel</th>\n",
       "      <th>Industry_Transport</th>\n",
       "      <th>Marital Status_MARRIED</th>\n",
       "      <th>Marital Status_SINGLE</th>\n",
       "      <th>Own House_YES</th>\n",
       "    </tr>\n",
       "  </thead>\n",
       "  <tbody>\n",
       "    <tr>\n",
       "      <th>0</th>\n",
       "      <td>31</td>\n",
       "      <td>38</td>\n",
       "      <td>20</td>\n",
       "      <td>3</td>\n",
       "      <td>66385.60627</td>\n",
       "      <td>0</td>\n",
       "      <td>0</td>\n",
       "      <td>0</td>\n",
       "      <td>0</td>\n",
       "      <td>1</td>\n",
       "      <td>...</td>\n",
       "      <td>0</td>\n",
       "      <td>0</td>\n",
       "      <td>0</td>\n",
       "      <td>0</td>\n",
       "      <td>0</td>\n",
       "      <td>0</td>\n",
       "      <td>0</td>\n",
       "      <td>0</td>\n",
       "      <td>0</td>\n",
       "      <td>0</td>\n",
       "    </tr>\n",
       "    <tr>\n",
       "      <th>1</th>\n",
       "      <td>50</td>\n",
       "      <td>44</td>\n",
       "      <td>26</td>\n",
       "      <td>2</td>\n",
       "      <td>71385.60627</td>\n",
       "      <td>0</td>\n",
       "      <td>0</td>\n",
       "      <td>0</td>\n",
       "      <td>0</td>\n",
       "      <td>1</td>\n",
       "      <td>...</td>\n",
       "      <td>0</td>\n",
       "      <td>0</td>\n",
       "      <td>0</td>\n",
       "      <td>0</td>\n",
       "      <td>0</td>\n",
       "      <td>0</td>\n",
       "      <td>0</td>\n",
       "      <td>0</td>\n",
       "      <td>1</td>\n",
       "      <td>0</td>\n",
       "    </tr>\n",
       "    <tr>\n",
       "      <th>2</th>\n",
       "      <td>61</td>\n",
       "      <td>33</td>\n",
       "      <td>15</td>\n",
       "      <td>0</td>\n",
       "      <td>84385.60627</td>\n",
       "      <td>0</td>\n",
       "      <td>0</td>\n",
       "      <td>0</td>\n",
       "      <td>0</td>\n",
       "      <td>1</td>\n",
       "      <td>...</td>\n",
       "      <td>0</td>\n",
       "      <td>0</td>\n",
       "      <td>0</td>\n",
       "      <td>0</td>\n",
       "      <td>0</td>\n",
       "      <td>1</td>\n",
       "      <td>0</td>\n",
       "      <td>1</td>\n",
       "      <td>0</td>\n",
       "      <td>0</td>\n",
       "    </tr>\n",
       "    <tr>\n",
       "      <th>3</th>\n",
       "      <td>106</td>\n",
       "      <td>28</td>\n",
       "      <td>10</td>\n",
       "      <td>2</td>\n",
       "      <td>80385.60627</td>\n",
       "      <td>0</td>\n",
       "      <td>0</td>\n",
       "      <td>0</td>\n",
       "      <td>0</td>\n",
       "      <td>1</td>\n",
       "      <td>...</td>\n",
       "      <td>0</td>\n",
       "      <td>0</td>\n",
       "      <td>0</td>\n",
       "      <td>0</td>\n",
       "      <td>0</td>\n",
       "      <td>0</td>\n",
       "      <td>0</td>\n",
       "      <td>0</td>\n",
       "      <td>0</td>\n",
       "      <td>0</td>\n",
       "    </tr>\n",
       "    <tr>\n",
       "      <th>4</th>\n",
       "      <td>125</td>\n",
       "      <td>41</td>\n",
       "      <td>23</td>\n",
       "      <td>2</td>\n",
       "      <td>66385.60627</td>\n",
       "      <td>0</td>\n",
       "      <td>0</td>\n",
       "      <td>0</td>\n",
       "      <td>0</td>\n",
       "      <td>1</td>\n",
       "      <td>...</td>\n",
       "      <td>0</td>\n",
       "      <td>0</td>\n",
       "      <td>0</td>\n",
       "      <td>0</td>\n",
       "      <td>0</td>\n",
       "      <td>0</td>\n",
       "      <td>0</td>\n",
       "      <td>0</td>\n",
       "      <td>1</td>\n",
       "      <td>1</td>\n",
       "    </tr>\n",
       "  </tbody>\n",
       "</table>\n",
       "<p>5 rows × 33 columns</p>\n",
       "</div>"
      ],
      "text/plain": [
       "    No  Age  Experience   Dependents       Income  Loan Affordability  \\\n",
       "0   31   38           20           3  66385.60627                   0   \n",
       "1   50   44           26           2  71385.60627                   0   \n",
       "2   61   33           15           0  84385.60627                   0   \n",
       "3  106   28           10           2  80385.60627                   0   \n",
       "4  125   41           23           2  66385.60627                   0   \n",
       "\n",
       "   Education_Doctorate  Education_High School  Education_Master  \\\n",
       "0                    0                      0                 0   \n",
       "1                    0                      0                 0   \n",
       "2                    0                      0                 0   \n",
       "3                    0                      0                 0   \n",
       "4                    0                      0                 0   \n",
       "\n",
       "   Education_No schooling      ...        Industry_Manufacturing  \\\n",
       "0                       1      ...                             0   \n",
       "1                       1      ...                             0   \n",
       "2                       1      ...                             0   \n",
       "3                       1      ...                             0   \n",
       "4                       1      ...                             0   \n",
       "\n",
       "   Industry_Petroleum   Industry_Pharmaceutical   Industry_Pulp and paper   \\\n",
       "0                    0                         0                         0   \n",
       "1                    0                         0                         0   \n",
       "2                    0                         0                         0   \n",
       "3                    0                         0                         0   \n",
       "4                    0                         0                         0   \n",
       "\n",
       "   Industry_Software   Industry_Steel   Industry_Transport   \\\n",
       "0                   0                0                    0   \n",
       "1                   0                0                    0   \n",
       "2                   0                1                    0   \n",
       "3                   0                0                    0   \n",
       "4                   0                0                    0   \n",
       "\n",
       "   Marital Status_MARRIED  Marital Status_SINGLE  Own House_YES  \n",
       "0                       0                      0              0  \n",
       "1                       0                      1              0  \n",
       "2                       1                      0              0  \n",
       "3                       0                      0              0  \n",
       "4                       0                      1              1  \n",
       "\n",
       "[5 rows x 33 columns]"
      ]
     },
     "execution_count": 28,
     "metadata": {},
     "output_type": "execute_result"
    }
   ],
   "source": [
    "train_df.head()"
   ]
  },
  {
   "cell_type": "code",
   "execution_count": null,
   "metadata": {},
   "outputs": [],
   "source": []
  },
  {
   "cell_type": "code",
   "execution_count": 34,
   "metadata": {},
   "outputs": [],
   "source": []
  },
  {
   "cell_type": "code",
   "execution_count": 35,
   "metadata": {},
   "outputs": [],
   "source": [
    "from sklearn.preprocessing import MinMaxScaler\n",
    "scaler = MinMaxScaler()\n",
    "traindf = scaler.fit_transform(train_df.drop(columns = ['No'],axis=0))\n",
    "traindf = pd.DataFrame(traindf, columns=['Age', 'Experience ', 'Dependents', 'Income',\n",
    "       'Loan Affordability', 'Education_Doctorate', 'Education_High School',\n",
    "       'Education_Master', 'Education_No schooling', 'Industry_Arts & Media',\n",
    "       'Industry_Chemical ', 'Industry_Construction ', 'Industry_Defense ',\n",
    "       'Industry_Education ', 'Industry_Energy ', 'Industry_Entertainment ',\n",
    "       'Industry_Financial services ', 'Industry_Fishing ',\n",
    "       'Industry_Food & Beverages', 'Industry_Health care ',\n",
    "       'Industry_Hospitality ', 'Industry_ICT', 'Industry_Manufacturing',\n",
    "       'Industry_Petroleum ', 'Industry_Pharmaceutical ',\n",
    "       'Industry_Pulp and paper ', 'Industry_Software ', 'Industry_Steel ',\n",
    "       'Industry_Transport ', 'Marital Status_MARRIED',\n",
    "       'Marital Status_SINGLE', 'Own House_YES'])"
   ]
  },
  {
   "cell_type": "code",
   "execution_count": 36,
   "metadata": {},
   "outputs": [],
   "source": [
    "X=traindf.drop(columns=['Loan Affordability'],axis=0)\n",
    "y=traindf['Loan Affordability']"
   ]
  },
  {
   "cell_type": "code",
   "execution_count": 32,
   "metadata": {},
   "outputs": [],
   "source": [
    "from statsmodels.stats.outliers_influence import variance_inflation_factor\n",
    "from sklearn.feature_selection import RFE, RFECV\n",
    "from sklearn.metrics import f1_score\n",
    "from sklearn.model_selection import train_test_split\n",
    "from sklearn.linear_model import LogisticRegression\n",
    "from sklearn.neighbors import NearestNeighbors\n",
    "from sklearn.tree import DecisionTreeClassifier\n",
    "from sklearn.svm import SVC\n",
    "from sklearn.ensemble import RandomForestClassifier,AdaBoostClassifier, ExtraTreesClassifier,GradientBoostingClassifier\n",
    "from sklearn.metrics import classification_report, confusion_matrix, roc_auc_score, roc_curve\n",
    "from sklearn.model_selection import cross_val_score, KFold\n",
    "#from imblearn.over_sampling import SMOTE\n",
    "from sklearn.utils import resample\n",
    "from sklearn.model_selection import GridSearchCV, RandomizedSearchCV\n",
    "\n",
    "import warnings\n",
    "warnings.filterwarnings(\"ignore\")"
   ]
  },
  {
   "cell_type": "code",
   "execution_count": null,
   "metadata": {},
   "outputs": [],
   "source": []
  },
  {
   "cell_type": "code",
   "execution_count": 37,
   "metadata": {},
   "outputs": [],
   "source": [
    "def simple_model(alg):\n",
    "\n",
    "    # splitting data into training and validation set\n",
    "    xtrain, xtest, ytrain, ytest = train_test_split(X,y, random_state=42, test_size=0.2)\n",
    "    model = alg\n",
    "    model.fit(xtrain, ytrain) # training the model\n",
    "#     prediction = model.predict_proba(xtest) # predicting on the validation set\n",
    "#     prediction_int = prediction[:,1] >= 0.3 # if prediction is greater than or equal to 0.3 than 1 else 0\n",
    "#     prediction_int = prediction_int.astype(np.int)\n",
    "\n",
    "    print(\"f1_score:\",f1_score(ytest, model.predict(xtest))) # calculating f1 score\n",
    "    #print(\"AUC:\",(ytest, model.predict(xtest))) # calculating f1 score\n",
    "    print(\"Accuracy on train data:\",model.score(xtrain,ytrain))\n",
    "    print(\"Accuracy on test data:\",model.score(xtest,ytest))"
   ]
  },
  {
   "cell_type": "code",
   "execution_count": 38,
   "metadata": {},
   "outputs": [
    {
     "name": "stdout",
     "output_type": "stream",
     "text": [
      "LR\n",
      "f1_score: 0.0\n",
      "Accuracy on train data: 0.6103515625\n",
      "Accuracy on test data: 0.609375\n",
      "DTC\n",
      "f1_score: 0.39551746868820037\n",
      "Accuracy on train data: 0.9953776041666667\n",
      "Accuracy on test data: 0.5223958333333333\n",
      "RFC\n",
      "f1_score: 0.297960024726973\n",
      "Accuracy on train data: 0.96845703125\n",
      "Accuracy on test data: 0.5563802083333333\n",
      "ETC\n",
      "f1_score: 0.331399845320959\n",
      "Accuracy on train data: 0.9953776041666667\n",
      "Accuracy on test data: 0.5497395833333333\n",
      "ABC\n",
      "f1_score: 0.0006664445184938354\n",
      "Accuracy on train data: 0.6103515625\n",
      "Accuracy on test data: 0.6095052083333333\n",
      "GBC\n",
      "f1_score: 0.0118148999015425\n",
      "Accuracy on train data: 0.6127278645833333\n",
      "Accuracy on test data: 0.6079427083333333\n"
     ]
    }
   ],
   "source": [
    "algs = [LogisticRegression(),DecisionTreeClassifier(),RandomForestClassifier(),ExtraTreesClassifier(),AdaBoostClassifier(),GradientBoostingClassifier()]\n",
    "algs_lst = ['LR','DTC','RFC','ETC','ABC','GBC']\n",
    "for alg,l in zip(algs,algs_lst):\n",
    "    print(l)\n",
    "    simple_model(alg=alg)"
   ]
  },
  {
   "cell_type": "code",
   "execution_count": 46,
   "metadata": {},
   "outputs": [
    {
     "name": "stdout",
     "output_type": "stream",
     "text": [
      "[[4680    0]\n",
      " [2999    1]]\n"
     ]
    }
   ],
   "source": [
    "# Confusion Matrix (on AdaBoostClassifier)\n",
    "from sklearn.metrics import confusion_matrix\n",
    "xtrain, xtest, ytrain, ytest = train_test_split(X,y, random_state=42, test_size=0.2)\n",
    "model = AdaBoostClassifier()\n",
    "model.fit(xtrain, ytrain)\n",
    "ypred = model.predict(xtest)\n",
    "confusion_matrix = confusion_matrix(ytest,ypred)\n",
    "print(confusion_matrix)"
   ]
  },
  {
   "cell_type": "code",
   "execution_count": 48,
   "metadata": {},
   "outputs": [
    {
     "name": "stdout",
     "output_type": "stream",
     "text": [
      "[[2837 1843]\n",
      " [1807 1193]]\n"
     ]
    }
   ],
   "source": [
    "from sklearn.metrics import confusion_matrix\n",
    "xtrain, xtest, ytrain, ytest = train_test_split(X,y, random_state=42, test_size=0.2)\n",
    "model = DecisionTreeClassifier()\n",
    "model.fit(xtrain, ytrain)\n",
    "ypred = model.predict(xtest)\n",
    "confusion_matrix = confusion_matrix(ytest,ypred)\n",
    "print(confusion_matrix)"
   ]
  },
  {
   "cell_type": "code",
   "execution_count": 55,
   "metadata": {},
   "outputs": [
    {
     "name": "stdout",
     "output_type": "stream",
     "text": [
      "             precision    recall  f1-score   support\n",
      "\n",
      "        0.0       0.61      0.61      0.61      4680\n",
      "        1.0       0.39      0.40      0.40      3000\n",
      "\n",
      "avg / total       0.53      0.52      0.53      7680\n",
      "\n"
     ]
    }
   ],
   "source": [
    "from sklearn.metrics import classification_report\n",
    "print(classification_report(ytest,ypred))"
   ]
  },
  {
   "cell_type": "code",
   "execution_count": 56,
   "metadata": {},
   "outputs": [
    {
     "data": {
      "image/png": "[encoded data removed]",
      "text/plain": [
       "<Figure size 432x288 with 1 Axes>"
      ]
     },
     "metadata": {},
     "output_type": "display_data"
    }
   ],
   "source": [
    "from sklearn.metrics import roc_auc_score, roc_curve\n",
    "\n",
    "auc = roc_auc_score(ytest, ypred)\n",
    "fpr, tpr, thresholds = roc_curve(ytest, ypred)\n",
    "plt.figure()\n",
    "plt.plot(fpr, tpr, label='RF Classifier (area = %0.2f)' % auc)\n",
    "plt.plot([0, 1], [0, 1],'r--')\n",
    "plt.xlim([0.0, 1.0])\n",
    "plt.ylim([0.0, 1.05])\n",
    "plt.xlabel('False Positive Rate'), plt.ylabel('True Positive Rate'), plt.title('Receiver operating characteristic')\n",
    "plt.legend(loc=\"lower right\")\n",
    "# plt.savefig('Log_ROC')\n",
    "plt.show()"
   ]
  },
  {
   "cell_type": "code",
   "execution_count": null,
   "metadata": {},
   "outputs": [],
   "source": []
  },
  {
   "cell_type": "code",
   "execution_count": 72,
   "metadata": {},
   "outputs": [
    {
     "name": "stdout",
     "output_type": "stream",
     "text": [
      "Training until validation scores don't improve for 200 rounds.\n",
      "[200]\tvalid_0's binary_logloss: 0.668041\tvalid_0's auc: 0.519821\n",
      "Early stopping, best iteration is:\n",
      "[2]\tvalid_0's binary_logloss: 0.668596\tvalid_0's auc: 0.525446\n",
      "err:  0.5254463971334331\n",
      "Training until validation scores don't improve for 200 rounds.\n",
      "[200]\tvalid_0's binary_logloss: 0.666807\tvalid_0's auc: 0.53763\n",
      "[400]\tvalid_0's binary_logloss: 0.666517\tvalid_0's auc: 0.539463\n",
      "[600]\tvalid_0's binary_logloss: 0.666532\tvalid_0's auc: 0.540139\n",
      "Early stopping, best iteration is:\n",
      "[443]\tvalid_0's binary_logloss: 0.666484\tvalid_0's auc: 0.539888\n",
      "err:  0.5398877139682694\n",
      "Training until validation scores don't improve for 200 rounds.\n",
      "[200]\tvalid_0's binary_logloss: 0.669038\tvalid_0's auc: 0.511683\n",
      "Early stopping, best iteration is:\n",
      "[48]\tvalid_0's binary_logloss: 0.668467\tvalid_0's auc: 0.514873\n",
      "err:  0.5148733945341244\n",
      "Training until validation scores don't improve for 200 rounds.\n",
      "[200]\tvalid_0's binary_logloss: 0.667961\tvalid_0's auc: 0.523181\n",
      "Early stopping, best iteration is:\n",
      "[6]\tvalid_0's binary_logloss: 0.668528\tvalid_0's auc: 0.53024\n",
      "err:  0.5302401644945888\n",
      "Training until validation scores don't improve for 200 rounds.\n",
      "[200]\tvalid_0's binary_logloss: 0.666837\tvalid_0's auc: 0.535599\n",
      "Early stopping, best iteration is:\n",
      "[9]\tvalid_0's binary_logloss: 0.668367\tvalid_0's auc: 0.5397\n",
      "err:  0.539699829307213\n",
      "Training until validation scores don't improve for 200 rounds.\n",
      "[200]\tvalid_0's binary_logloss: 0.668853\tvalid_0's auc: 0.510568\n",
      "Early stopping, best iteration is:\n",
      "[90]\tvalid_0's binary_logloss: 0.668405\tvalid_0's auc: 0.511996\n",
      "err:  0.5119956800783242\n",
      "Training until validation scores don't improve for 200 rounds.\n",
      "[200]\tvalid_0's binary_logloss: 0.667914\tvalid_0's auc: 0.523563\n",
      "Early stopping, best iteration is:\n",
      "[6]\tvalid_0's binary_logloss: 0.668546\tvalid_0's auc: 0.526608\n",
      "err:  0.5266076326789302\n",
      "Training until validation scores don't improve for 200 rounds.\n",
      "[200]\tvalid_0's binary_logloss: 0.667597\tvalid_0's auc: 0.530198\n",
      "Early stopping, best iteration is:\n",
      "[7]\tvalid_0's binary_logloss: 0.668535\tvalid_0's auc: 0.531852\n",
      "err:  0.5318521521631968\n",
      "Training until validation scores don't improve for 200 rounds.\n",
      "[200]\tvalid_0's binary_logloss: 0.668441\tvalid_0's auc: 0.517602\n",
      "Early stopping, best iteration is:\n",
      "[123]\tvalid_0's binary_logloss: 0.668329\tvalid_0's auc: 0.516883\n",
      "err:  0.5168831046643009\n",
      "Training until validation scores don't improve for 200 rounds.\n",
      "[200]\tvalid_0's binary_logloss: 0.666886\tvalid_0's auc: 0.541587\n",
      "Early stopping, best iteration is:\n",
      "[16]\tvalid_0's binary_logloss: 0.668316\tvalid_0's auc: 0.543317\n",
      "err:  0.5433166803089747\n"
     ]
    }
   ],
   "source": [
    "err=[]\n",
    "y_pred_tot=[]\n",
    "from sklearn.model_selection import KFold,StratifiedKFold\n",
    "fold=StratifiedKFold(n_splits=10,shuffle=True,random_state=1994)\n",
    "i=1\n",
    "for train_index, test_index in fold.split(X,y):\n",
    "    X_train, X_test = X.iloc[train_index], X.iloc[test_index]\n",
    "    y_train, y_test = y[train_index], y[test_index]\n",
    "    m=LGBMClassifier(n_estimators=3000,random_state=1994,learning_rate=0.03,colsample_bytree=0.2,objective='binary',scale_pos_weight=1)\n",
    "    m.fit(X_train,y_train,eval_set=[(X_test, y_test)],eval_metric='auc', early_stopping_rounds=200,verbose=200)\n",
    "    preds=m.predict_proba(X_test)[:,-1]\n",
    "    print(\"err: \",roc_auc_score(y_test,preds))\n",
    "    err.append(roc_auc_score(y_test,preds))\n",
    "    p = m.predict_proba(X_test)[:,-1]\n",
    "    i=i+1\n",
    "    y_pred_tot.append(p)"
   ]
  },
  {
   "cell_type": "code",
   "execution_count": 73,
   "metadata": {},
   "outputs": [
    {
     "data": {
      "text/plain": [
       "0.5280802749331356"
      ]
     },
     "execution_count": 73,
     "metadata": {},
     "output_type": "execute_result"
    }
   ],
   "source": [
    "np.mean(err,0)"
   ]
  },
  {
   "cell_type": "code",
   "execution_count": 75,
   "metadata": {},
   "outputs": [
    {
     "ename": "TypeError",
     "evalue": "'numpy.ndarray' object is not callable",
     "output_type": "error",
     "traceback": [
      "\u001b[1;31m---------------------------------------------------------------------------\u001b[0m",
      "\u001b[1;31mTypeError\u001b[0m                                 Traceback (most recent call last)",
      "\u001b[1;32m<ipython-input-75-08ef6e925ffe>\u001b[0m in \u001b[0;36m<module>\u001b[1;34m()\u001b[0m\n\u001b[1;32m----> 1\u001b[1;33m \u001b[0mconfusion_matrix\u001b[0m \u001b[1;33m=\u001b[0m \u001b[0mconfusion_matrix\u001b[0m\u001b[1;33m(\u001b[0m\u001b[0my_test\u001b[0m\u001b[1;33m,\u001b[0m\u001b[0mpreds\u001b[0m\u001b[1;33m)\u001b[0m\u001b[1;33m\u001b[0m\u001b[0m\n\u001b[0m",
      "\u001b[1;31mTypeError\u001b[0m: 'numpy.ndarray' object is not callable"
     ]
    }
   ],
   "source": [
    "confusion_matrix = confusion_matrix(y_test,preds)"
   ]
  },
  {
   "cell_type": "code",
   "execution_count": null,
   "metadata": {},
   "outputs": [],
   "source": []
  },
  {
   "cell_type": "code",
   "execution_count": 41,
   "metadata": {},
   "outputs": [],
   "source": [
    "X = traindf.drop(labels=['Loan Affordability'], axis=1)\n",
    "y = traindf['Loan Affordability'].values\n",
    "\n",
    "from sklearn.model_selection import train_test_split\n",
    "X_train, X_cv, y_train, y_cv = train_test_split(X, y, test_size=0.25, random_state=1)"
   ]
  },
  {
   "cell_type": "code",
   "execution_count": 42,
   "metadata": {},
   "outputs": [
    {
     "data": {
      "text/plain": [
       "((28800, 31), (28800,), (9600, 31), (9600,))"
      ]
     },
     "execution_count": 42,
     "metadata": {},
     "output_type": "execute_result"
    }
   ],
   "source": [
    "X_train.shape, y_train.shape, X_cv.shape, y_cv.shape"
   ]
  },
  {
   "cell_type": "code",
   "execution_count": 43,
   "metadata": {},
   "outputs": [
    {
     "name": "stdout",
     "output_type": "stream",
     "text": [
      "Training until validation scores don't improve for 100 rounds.\n",
      "[100]\tvalid_0's binary_logloss: 0.67219\tvalid_0's auc: 0.518028\n",
      "Early stopping, best iteration is:\n",
      "[10]\tvalid_0's binary_logloss: 0.670609\tvalid_0's auc: 0.525098\n"
     ]
    }
   ],
   "source": [
    "from lightgbm import LGBMClassifier\n",
    "\n",
    "lgbm = LGBMClassifier(boosting_type='gbdt', num_leaves=31, max_depth=-1, learning_rate=0.07, n_estimators=1000, \n",
    "                      min_child_weight=0.01, colsample_bytree=0.5, random_state=0)\n",
    "\n",
    "lgbm.fit(X_train, y_train,\n",
    "         eval_set=[(X_cv, y_cv)],\n",
    "         eval_metric='auc',\n",
    "         early_stopping_rounds=100,\n",
    "         verbose=100)\n",
    "\n",
    "y_pred = lgbm.predict_proba(X_cv)[:,-1]"
   ]
  },
  {
   "cell_type": "code",
   "execution_count": 44,
   "metadata": {},
   "outputs": [
    {
     "data": {
      "text/plain": [
       "0.5250981092958038"
      ]
     },
     "execution_count": 44,
     "metadata": {},
     "output_type": "execute_result"
    }
   ],
   "source": [
    "roc_auc_score(y_cv, y_pred)"
   ]
  },
  {
   "cell_type": "code",
   "execution_count": 59,
   "metadata": {},
   "outputs": [
    {
     "data": {
      "text/html": [
       "<div>\n",
       "<style scoped>\n",
       "    .dataframe tbody tr th:only-of-type {\n",
       "        vertical-align: middle;\n",
       "    }\n",
       "\n",
       "    .dataframe tbody tr th {\n",
       "        vertical-align: top;\n",
       "    }\n",
       "\n",
       "    .dataframe thead th {\n",
       "        text-align: right;\n",
       "    }\n",
       "</style>\n",
       "<table border=\"1\" class=\"dataframe\">\n",
       "  <thead>\n",
       "    <tr style=\"text-align: right;\">\n",
       "      <th></th>\n",
       "      <th>No</th>\n",
       "      <th>Age</th>\n",
       "      <th>Education</th>\n",
       "      <th>Industry</th>\n",
       "      <th>Experience</th>\n",
       "      <th>Marital Status</th>\n",
       "      <th>Own House</th>\n",
       "      <th>Dependents</th>\n",
       "      <th>Income</th>\n",
       "      <th>Loan Affordability</th>\n",
       "    </tr>\n",
       "  </thead>\n",
       "  <tbody>\n",
       "    <tr>\n",
       "      <th>0</th>\n",
       "      <td>31</td>\n",
       "      <td>38</td>\n",
       "      <td>No schooling</td>\n",
       "      <td>Arts &amp; Media</td>\n",
       "      <td>20</td>\n",
       "      <td>DIVORCED</td>\n",
       "      <td>NO</td>\n",
       "      <td>3</td>\n",
       "      <td>66385.60627</td>\n",
       "      <td>NO</td>\n",
       "    </tr>\n",
       "    <tr>\n",
       "      <th>1</th>\n",
       "      <td>50</td>\n",
       "      <td>44</td>\n",
       "      <td>No schooling</td>\n",
       "      <td>Construction</td>\n",
       "      <td>26</td>\n",
       "      <td>SINGLE</td>\n",
       "      <td>NO</td>\n",
       "      <td>2</td>\n",
       "      <td>71385.60627</td>\n",
       "      <td>NO</td>\n",
       "    </tr>\n",
       "    <tr>\n",
       "      <th>2</th>\n",
       "      <td>61</td>\n",
       "      <td>33</td>\n",
       "      <td>No schooling</td>\n",
       "      <td>Steel</td>\n",
       "      <td>15</td>\n",
       "      <td>MARRIED</td>\n",
       "      <td>NO</td>\n",
       "      <td>0</td>\n",
       "      <td>84385.60627</td>\n",
       "      <td>NO</td>\n",
       "    </tr>\n",
       "    <tr>\n",
       "      <th>3</th>\n",
       "      <td>106</td>\n",
       "      <td>28</td>\n",
       "      <td>No schooling</td>\n",
       "      <td>Arts &amp; Media</td>\n",
       "      <td>10</td>\n",
       "      <td>DIVORCED</td>\n",
       "      <td>NO</td>\n",
       "      <td>2</td>\n",
       "      <td>80385.60627</td>\n",
       "      <td>NO</td>\n",
       "    </tr>\n",
       "    <tr>\n",
       "      <th>4</th>\n",
       "      <td>125</td>\n",
       "      <td>41</td>\n",
       "      <td>No schooling</td>\n",
       "      <td>Construction</td>\n",
       "      <td>23</td>\n",
       "      <td>SINGLE</td>\n",
       "      <td>YES</td>\n",
       "      <td>2</td>\n",
       "      <td>66385.60627</td>\n",
       "      <td>NO</td>\n",
       "    </tr>\n",
       "  </tbody>\n",
       "</table>\n",
       "</div>"
      ],
      "text/plain": [
       "    No  Age     Education       Industry  Experience  Marital Status  \\\n",
       "0   31   38  No schooling   Arts & Media           20       DIVORCED   \n",
       "1   50   44  No schooling  Construction            26         SINGLE   \n",
       "2   61   33  No schooling         Steel            15        MARRIED   \n",
       "3  106   28  No schooling   Arts & Media           10       DIVORCED   \n",
       "4  125   41  No schooling  Construction            23         SINGLE   \n",
       "\n",
       "  Own House  Dependents       Income Loan Affordability  \n",
       "0        NO           3  66385.60627                 NO  \n",
       "1        NO           2  71385.60627                 NO  \n",
       "2        NO           0  84385.60627                 NO  \n",
       "3        NO           2  80385.60627                 NO  \n",
       "4       YES           2  66385.60627                 NO  "
      ]
     },
     "execution_count": 59,
     "metadata": {},
     "output_type": "execute_result"
    }
   ],
   "source": [
    "train1.head()"
   ]
  },
  {
   "cell_type": "code",
   "execution_count": 63,
   "metadata": {},
   "outputs": [
    {
     "name": "stdout",
     "output_type": "stream",
     "text": [
      "<class 'pandas.core.frame.DataFrame'>\n",
      "RangeIndex: 38400 entries, 0 to 38399\n",
      "Data columns (total 10 columns):\n",
      "No                    38400 non-null int64\n",
      "Age                   38400 non-null int64\n",
      "Education             38400 non-null category\n",
      "Industry              38400 non-null category\n",
      "Experience            38400 non-null int64\n",
      "Marital Status        38400 non-null category\n",
      "Own House             38400 non-null category\n",
      "Dependents            38400 non-null int64\n",
      "Income                38400 non-null float64\n",
      "Loan Affordability    38400 non-null int64\n",
      "dtypes: category(4), float64(1), int64(5)\n",
      "memory usage: 1.9 MB\n"
     ]
    }
   ],
   "source": [
    "train1.info()"
   ]
  },
  {
   "cell_type": "code",
   "execution_count": 58,
   "metadata": {},
   "outputs": [],
   "source": [
    "train1=train"
   ]
  },
  {
   "cell_type": "code",
   "execution_count": 60,
   "metadata": {},
   "outputs": [],
   "source": [
    "train1['Education']=train1['Education'].astype('category')\n",
    "train1['Industry']=train1['Industry'].astype('category')\n",
    "train1['Marital Status']=train1['Marital Status'].astype('category')\n",
    "train1['Own House']=train1['Own House'].astype('category')\n"
   ]
  },
  {
   "cell_type": "code",
   "execution_count": 62,
   "metadata": {},
   "outputs": [],
   "source": [
    "train1['Loan Affordability'].replace({\"YES\":1,\"NO\":0},inplace=True)"
   ]
  },
  {
   "cell_type": "code",
   "execution_count": 64,
   "metadata": {},
   "outputs": [
    {
     "data": {
      "text/plain": [
       "{'Education': ['count', 'nunique'],\n",
       " 'Industry': ['count', 'nunique'],\n",
       " 'Marital Status': ['count', 'nunique'],\n",
       " 'Own House': ['count', 'nunique'],\n",
       " 'Age': ['min', 'mean', 'max', 'sum'],\n",
       " 'Experience': ['min', 'mean', 'max', 'sum'],\n",
       " 'Dependents': ['min', 'mean', 'max', 'sum']}"
      ]
     },
     "execution_count": 64,
     "metadata": {},
     "output_type": "execute_result"
    }
   ],
   "source": [
    "#Not implemented due to unique column constrain\n",
    "cat_agg=['count','nunique']\n",
    "num_agg=['min','mean','max','sum']\n",
    "agg_col={\n",
    "    'Education':cat_agg, 'Industry':cat_agg, 'Marital Status':cat_agg,'Own House':cat_agg ,'Age':num_agg,'Experience':num_agg,'Dependents':num_agg,\n",
    "       \n",
    "}\n",
    "\n",
    "agg_col"
   ]
  },
  {
   "cell_type": "code",
   "execution_count": null,
   "metadata": {},
   "outputs": [],
   "source": [
    "#train1=train1.groupby('user_id').agg(agg_col)"
   ]
  },
  {
   "cell_type": "code",
   "execution_count": 66,
   "metadata": {},
   "outputs": [
    {
     "name": "stdout",
     "output_type": "stream",
     "text": [
      "(38400, 8) (38400, 8)\n"
     ]
    }
   ],
   "source": [
    "X,y=train1.drop(['No','Loan Affordability'],axis=1),train1['Loan Affordability']\n",
    "Xtest=train1.drop(['No','Loan Affordability'],axis=1)\n",
    "\n",
    "print(X.shape,Xtest.shape)\n",
    "X_train,X_val,y_train,y_val = train_test_split(X,y,test_size=0.25,random_state = 1994,stratify=y)"
   ]
  },
  {
   "cell_type": "code",
   "execution_count": 67,
   "metadata": {},
   "outputs": [
    {
     "data": {
      "text/plain": [
       "0    0.610156\n",
       "1    0.389844\n",
       "Name: Loan Affordability, dtype: float64"
      ]
     },
     "execution_count": 67,
     "metadata": {},
     "output_type": "execute_result"
    }
   ],
   "source": [
    "train1['Loan Affordability'].value_counts()/train1.shape[0]"
   ]
  },
  {
   "cell_type": "code",
   "execution_count": 68,
   "metadata": {},
   "outputs": [
    {
     "name": "stdout",
     "output_type": "stream",
     "text": [
      "(38400, 8) (38400, 8)\n"
     ]
    },
    {
     "data": {
      "text/plain": [
       "array([1, 2, 4, 5], dtype=int64)"
      ]
     },
     "execution_count": 68,
     "metadata": {},
     "output_type": "execute_result"
    }
   ],
   "source": [
    "print(X.shape,Xtest.shape)\n",
    "X_train,X_val,y_train,y_val = train_test_split(X,y,test_size=0.25,random_state = 1994,stratify=y)\n",
    "categorical_features_indices = np.where(X_train.dtypes =='category')[0]\n",
    "categorical_features_indices"
   ]
  },
  {
   "cell_type": "code",
   "execution_count": 69,
   "metadata": {},
   "outputs": [
    {
     "ename": "NameError",
     "evalue": "name 'CatBoostClassifier' is not defined",
     "output_type": "error",
     "traceback": [
      "\u001b[1;31m---------------------------------------------------------------------------\u001b[0m",
      "\u001b[1;31mNameError\u001b[0m                                 Traceback (most recent call last)",
      "\u001b[1;32m<ipython-input-69-7af1fd9b383f>\u001b[0m in \u001b[0;36m<module>\u001b[1;34m()\u001b[0m\n\u001b[1;32m----> 1\u001b[1;33m \u001b[0mm\u001b[0m\u001b[1;33m=\u001b[0m\u001b[0mCatBoostClassifier\u001b[0m\u001b[1;33m(\u001b[0m\u001b[0mn_estimators\u001b[0m\u001b[1;33m=\u001b[0m\u001b[1;36m2500\u001b[0m\u001b[1;33m,\u001b[0m\u001b[0mrandom_state\u001b[0m\u001b[1;33m=\u001b[0m\u001b[1;36m1994\u001b[0m\u001b[1;33m,\u001b[0m\u001b[0mlearning_rate\u001b[0m\u001b[1;33m=\u001b[0m\u001b[1;36m0.03\u001b[0m\u001b[1;33m,\u001b[0m\u001b[0meval_metric\u001b[0m\u001b[1;33m=\u001b[0m\u001b[1;34m'AUC'\u001b[0m\u001b[1;33m)\u001b[0m\u001b[1;33m\u001b[0m\u001b[0m\n\u001b[0m\u001b[0;32m      2\u001b[0m \u001b[0mm\u001b[0m\u001b[1;33m.\u001b[0m\u001b[0mfit\u001b[0m\u001b[1;33m(\u001b[0m\u001b[0mX_train\u001b[0m\u001b[1;33m,\u001b[0m\u001b[0my_train\u001b[0m\u001b[1;33m,\u001b[0m\u001b[0meval_set\u001b[0m\u001b[1;33m=\u001b[0m\u001b[1;33m[\u001b[0m\u001b[1;33m(\u001b[0m\u001b[0mX_val\u001b[0m\u001b[1;33m,\u001b[0m \u001b[0my_val\u001b[0m\u001b[1;33m.\u001b[0m\u001b[0mvalues\u001b[0m\u001b[1;33m)\u001b[0m\u001b[1;33m]\u001b[0m\u001b[1;33m,\u001b[0m \u001b[0mearly_stopping_rounds\u001b[0m\u001b[1;33m=\u001b[0m\u001b[1;36m200\u001b[0m\u001b[1;33m,\u001b[0m\u001b[0mverbose\u001b[0m\u001b[1;33m=\u001b[0m\u001b[1;36m200\u001b[0m\u001b[1;33m,\u001b[0m\u001b[0mcat_features\u001b[0m\u001b[1;33m=\u001b[0m\u001b[0mcategorical_features_indices\u001b[0m\u001b[1;33m)\u001b[0m\u001b[1;33m\u001b[0m\u001b[0m\n\u001b[0;32m      3\u001b[0m \u001b[0mp\u001b[0m\u001b[1;33m=\u001b[0m\u001b[0mm\u001b[0m\u001b[1;33m.\u001b[0m\u001b[0mpredict_proba\u001b[0m\u001b[1;33m(\u001b[0m\u001b[0mX_val\u001b[0m\u001b[1;33m)\u001b[0m\u001b[1;33m[\u001b[0m\u001b[1;33m:\u001b[0m\u001b[1;33m,\u001b[0m\u001b[1;33m-\u001b[0m\u001b[1;36m1\u001b[0m\u001b[1;33m]\u001b[0m\u001b[1;33m\u001b[0m\u001b[0m\n\u001b[0;32m      4\u001b[0m \u001b[0mprint\u001b[0m\u001b[1;33m(\u001b[0m\u001b[0mroc_auc_score\u001b[0m\u001b[1;33m(\u001b[0m\u001b[0my_val\u001b[0m\u001b[1;33m,\u001b[0m\u001b[0mp\u001b[0m\u001b[1;33m)\u001b[0m\u001b[1;33m)\u001b[0m\u001b[1;33m\u001b[0m\u001b[0m\n",
      "\u001b[1;31mNameError\u001b[0m: name 'CatBoostClassifier' is not defined"
     ]
    }
   ],
   "source": [
    "m=CatBoostClassifier(n_estimators=2500,random_state=1994,learning_rate=0.03,eval_metric='AUC')\n",
    "m.fit(X_train,y_train,eval_set=[(X_val, y_val.values)], early_stopping_rounds=200,verbose=200,cat_features=categorical_features_indices)\n",
    "p=m.predict_proba(X_val)[:,-1]\n",
    "print(roc_auc_score(y_val,p))"
   ]
  },
  {
   "cell_type": "code",
   "execution_count": 71,
   "metadata": {},
   "outputs": [
    {
     "ename": "ModuleNotFoundError",
     "evalue": "No module named 'catboost'",
     "output_type": "error",
     "traceback": [
      "\u001b[1;31m---------------------------------------------------------------------------\u001b[0m",
      "\u001b[1;31mModuleNotFoundError\u001b[0m                       Traceback (most recent call last)",
      "\u001b[1;32m<ipython-input-71-816b2bf69c60>\u001b[0m in \u001b[0;36m<module>\u001b[1;34m()\u001b[0m\n\u001b[1;32m----> 1\u001b[1;33m \u001b[1;32mfrom\u001b[0m \u001b[0mcatboost\u001b[0m \u001b[1;32mimport\u001b[0m \u001b[0mCatBoostClassifier\u001b[0m\u001b[1;33m,\u001b[0m\u001b[0mPool\u001b[0m\u001b[1;33m,\u001b[0m \u001b[0mcv\u001b[0m\u001b[1;33m\u001b[0m\u001b[0m\n\u001b[0m",
      "\u001b[1;31mModuleNotFoundError\u001b[0m: No module named 'catboost'"
     ]
    }
   ],
   "source": [
    "from catboost import CatBoostClassifier,Pool, cv"
   ]
  },
  {
   "cell_type": "code",
   "execution_count": null,
   "metadata": {},
   "outputs": [],
   "source": [
    "#install catboost algort\n",
    "pip install catboost"
   ]
  }
 ],
 "metadata": {
  "kernelspec": {
   "display_name": "Python 3",
   "language": "python",
   "name": "python3"
  },
  "language_info": {
   "codemirror_mode": {
    "name": "ipython",
    "version": 3
   },
   "file_extension": ".py",
   "mimetype": "text/x-python",
   "name": "python",
   "nbconvert_exporter": "python",
   "pygments_lexer": "ipython3",
   "version": "3.6.5"
  }
 },
 "nbformat": 4,
 "nbformat_minor": 2
}
